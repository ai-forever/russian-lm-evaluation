{
 "cells": [
  {
   "cell_type": "markdown",
   "id": "676e165c",
   "metadata": {},
   "source": [
    "# Simplification experiments\n",
    "This code was used for finetuning all encoder-decoder LMs for the simplification task and their evaluation on this task.\n",
    "\n",
    "## Part 1. Finetuning encoder-decoder LMs"
   ]
  },
  {
   "cell_type": "code",
   "execution_count": null,
   "id": "f2c9dbca",
   "metadata": {},
   "outputs": [],
   "source": [
    "# dataset load\n",
    "train, dev = [], []\n",
    "length_text = []\n",
    "\n",
    "with open(\"./data/simplification/train.txt\") as inf:\n",
    "    for line in inf.read().split(\"</s>\"):\n",
    "        if len(line.strip().replace(\"<s>\", \"\")) > 0:\n",
    "            train.append(line.strip().replace(\"<s>\", \"\"))\n",
    "        \n",
    "with open(\"./data/simplification/dev.txt\") as inf:\n",
    "    for line in inf.read().split(\"</s>\"):\n",
    "        if len(line.strip().replace(\"<s>\", \"\")) > 0:\n",
    "            dev.append(line.strip().replace(\"<s>\", \"\"))\n",
    "\n",
    "print(len(train), len(dev))\n",
    "print(train[0])"
   ]
  },
  {
   "cell_type": "code",
   "execution_count": null,
   "id": "53c24f9c",
   "metadata": {},
   "outputs": [],
   "source": [
    "import pandas as pd\n",
    "source, corrected,  = [], []\n",
    "for e, row in enumerate(train):\n",
    "        origin, seq = row.split(\" ==> \")\n",
    "        corrected.append(seq)\n",
    "        source.append(origin)        \n",
    "data = {'text_origin': source, 'text_par': corrected}\n",
    "data_train = pd.DataFrame.from_dict(data)\n",
    "data_train.tail()"
   ]
  },
  {
   "cell_type": "code",
   "execution_count": null,
   "id": "0ce17dae",
   "metadata": {},
   "outputs": [],
   "source": [
    "source, corrected,  = [], []\n",
    "for e, row in enumerate(dev):\n",
    "        origin, seq = row.split(\" ==> \")\n",
    "        corrected.append(seq)\n",
    "        source.append(origin)       \n",
    "data = {'text_origin': source, 'text_par': corrected}\n",
    "data_val = pd.DataFrame.from_dict(data)\n",
    "data_val.tail()"
   ]
  },
  {
   "cell_type": "code",
   "execution_count": null,
   "id": "4264c281",
   "metadata": {},
   "outputs": [],
   "source": [
    "from datasets import Dataset\n",
    "dataset_train = Dataset.from_pandas(data_train)\n",
    "dataset_val = Dataset.from_pandas(data_val)\n",
    "dataset_train"
   ]
  },
  {
   "cell_type": "code",
   "execution_count": null,
   "id": "41db65b8",
   "metadata": {},
   "outputs": [],
   "source": [
    "def add_eos_to_examples(example):\n",
    "        example['input_text'] = 'Упрости: %s </s>' % (example['text_origin'])\n",
    "        example['target_text'] = '%s </s>' % example['text_par']\n",
    "        return example\n",
    "\n",
    "def convert_to_features(example_batch):\n",
    "    input_encodings = tokenizer.batch_encode_plus(\n",
    "        example_batch['input_text'], pad_to_max_length=True, max_length=512\n",
    "    )\n",
    "    target_encodings = tokenizer.batch_encode_plus(\n",
    "        example_batch['target_text'], pad_to_max_length=True, max_length=512\n",
    "    )\n",
    "\n",
    "    encodings = {\n",
    "        'input_ids': input_encodings['input_ids'], \n",
    "        'attention_mask': input_encodings['attention_mask'],\n",
    "        'target_ids': target_encodings['input_ids'],\n",
    "        'target_attention_mask': target_encodings['attention_mask']\n",
    "    }\n",
    "    return encodings\n",
    "\n",
    "add_eos_to_examples(dataset_train[10])"
   ]
  },
  {
   "cell_type": "code",
   "execution_count": null,
   "id": "dd59c478",
   "metadata": {},
   "outputs": [],
   "source": [
    "#!pip install transformers -U\n",
    "#!pip install tokenizers\n",
    "from transformers import AutoTokenizer, AutoModelForSeq2SeqLM\n",
    "model_name = \"ai-forever/ruT5-large\"\n",
    "tokenizer = AutoTokenizer.from_pretrained(model_name)\n",
    "\n",
    "tokenized_dataset_train = dataset_train.map(add_eos_to_examples)\n",
    "tokenized_dataset_train = tokenized_dataset_train.map(convert_to_features, batched=True)\n",
    "\n",
    "tokenized_dataset_val = dataset_val.map(add_eos_to_examples)\n",
    "tokenized_dataset_val = tokenized_dataset_val.map(convert_to_features, batched=True)"
   ]
  },
  {
   "cell_type": "code",
   "execution_count": null,
   "id": "671f7032",
   "metadata": {},
   "outputs": [],
   "source": [
    "columns = ['input_ids', 'target_ids', 'attention_mask', 'target_attention_mask']\n",
    "tokenized_dataset_train.set_format(type='torch', columns=columns)\n",
    "tokenized_dataset_val.set_format(type='torch', columns=columns)"
   ]
  },
  {
   "cell_type": "code",
   "execution_count": null,
   "id": "c7e491e0",
   "metadata": {},
   "outputs": [],
   "source": [
    "from transformers import DataCollator\n",
    "from dataclasses import dataclass, field\n",
    "from typing import Dict, List, Optional\n",
    "import torch\n",
    "\n",
    "\n",
    "class T2TDataCollator():\n",
    "    def __call__(self, batch: List):\n",
    "        \"\"\"\n",
    "        Take a list of samples from a Dataset and collate them into a batch.\n",
    "        Returns: A dictionary of tensors\n",
    "        \"\"\"\n",
    "        input_ids = torch.stack([example['input_ids'] for example in batch])\n",
    "        labels = torch.stack([example['target_ids'] for example in batch])\n",
    "        labels[labels[:, :] == 0] = -100\n",
    "        attention_mask = torch.stack([example['attention_mask'] for example in batch])\n",
    "        decoder_attention_mask = torch.stack([example['target_attention_mask'] for example in batch])\n",
    "        \n",
    "        return {\n",
    "            'input_ids': input_ids, \n",
    "            'attention_mask': attention_mask,\n",
    "            'labels': labels, \n",
    "            'decoder_attention_mask': decoder_attention_mask\n",
    "        }"
   ]
  },
  {
   "cell_type": "code",
   "execution_count": null,
   "id": "e638430b",
   "metadata": {},
   "outputs": [],
   "source": [
    "from transformers import TrainingArguments\n",
    "from transformers import EarlyStoppingCallback\n",
    "\n",
    "data_output = \"./models/simplification/\"+model_name +'_01_08'\n",
    "\n",
    "training_args = TrainingArguments(\n",
    "    data_output,\n",
    "    num_train_epochs=10,\n",
    "    overwrite_output_dir = 'True',\n",
    "    evaluation_strategy=\"steps\",\n",
    "    eval_steps=500,\n",
    "    logging_steps = 500,\n",
    "    learning_rate = 1e-5,\n",
    "    per_device_train_batch_size=2,\n",
    "    per_device_eval_batch_size=2,\n",
    "    seed=0,\n",
    "    save_total_limit = 1,\n",
    "    load_best_model_at_end=True,\n",
    "    remove_unused_columns=False\n",
    ")"
   ]
  },
  {
   "cell_type": "code",
   "execution_count": null,
   "id": "86f83e6c",
   "metadata": {},
   "outputs": [],
   "source": [
    "from transformers import T5ForConditionalGeneration\n",
    "\n",
    "model = AutoModelForSeq2SeqLM.from_pretrained(model_name)"
   ]
  },
  {
   "cell_type": "code",
   "execution_count": null,
   "id": "d84b0382",
   "metadata": {},
   "outputs": [],
   "source": [
    "from transformers import Trainer\n",
    "\n",
    "trainer = Trainer(\n",
    "    model,\n",
    "    training_args,\n",
    "    train_dataset = tokenized_dataset_train,\n",
    "    eval_dataset = tokenized_dataset_val,\n",
    "    data_collator = T2TDataCollator(),\n",
    "    tokenizer = tokenizer,\n",
    "    callbacks = [EarlyStoppingCallback(early_stopping_patience=3)]\n",
    ")\n",
    "trainer.train()"
   ]
  },
  {
   "cell_type": "code",
   "execution_count": null,
   "id": "1b627342",
   "metadata": {},
   "outputs": [],
   "source": [
    "trainer.save_model(data_output)"
   ]
  },
  {
   "cell_type": "markdown",
   "id": "005dd8df",
   "metadata": {},
   "source": [
    "## Part 2. Encoder-decoder LMs evaluation "
   ]
  },
  {
   "cell_type": "code",
   "execution_count": null,
   "id": "7ac5c325",
   "metadata": {},
   "outputs": [],
   "source": [
    "from transformers import T5ForConditionalGeneration, T5Tokenizer\n",
    "model_name = \"./models/simplification/\"+model_name +'_01_08'\n",
    "mymodel = T5ForConditionalGeneration.from_pretrained(model_name)\n",
    "mytokenizer = T5Tokenizer.from_pretrained(model_name)"
   ]
  },
  {
   "cell_type": "code",
   "execution_count": null,
   "id": "64106d57",
   "metadata": {},
   "outputs": [],
   "source": [
    "# !pip install evaluate\n",
    "\n",
    "from evaluate import load\n",
    "\n",
    "sari = load(\"sari\")\n",
    "bertscore = load(\"bertscore\")"
   ]
  },
  {
   "cell_type": "code",
   "execution_count": null,
   "id": "617c4f7c",
   "metadata": {},
   "outputs": [],
   "source": [
    "import tqdm\n",
    "import torch\n",
    "import pandas as pd\n",
    "\n",
    "def add_eos_to_examples(example):\n",
    "    return 'Упрости: %s </s>' % (example.strip())\n",
    "\n",
    "def convert_to_features(example):\n",
    "    encodings = mytokenizer(\n",
    "        example, \n",
    "#         pad_to_max_length=True,\n",
    "        max_length=800,\n",
    "        return_tensors=\"pt\"\n",
    "    )\n",
    "    return encodings\n",
    "\n"
   ]
  },
  {
   "cell_type": "code",
   "execution_count": null,
   "id": "1c944324",
   "metadata": {},
   "outputs": [],
   "source": [
    "import tqdm\n",
    "do_sample = False\n",
    "num_beams = 5\n",
    "data_answers = pd.read_csv(\"./data/simplification/public_test_sents.csv\", sep=\",\")\n",
    "sources = []\n",
    "answers = []\n",
    "ans_for_q = []\n",
    "for source, ans in zip(data_answers[\"INPUT:source\"], data_answers[\"OUTPUT:output\"]):\n",
    "    if source not in sources:\n",
    "        if ans_for_q:\n",
    "            answers.append(ans_for_q)\n",
    "        ans_for_q = []\n",
    "        sources.append(source)\n",
    "        ans_for_q.append(ans)\n",
    "    else:\n",
    "        ans_for_q.append(ans)\n",
    "answers.append(ans_for_q)\n",
    "\n",
    "path_to_file = \"./results/simplification/simplification_\"+model_name.replace('/','_')+'_public.txt'\n",
    "with open(path_to_file, \"w\") as out:\n",
    "    for text in tqdm.tqdm(sources):\n",
    "        formatted_text = add_eos_to_examples(text)\n",
    "        encodings = convert_to_features(formatted_text)\n",
    "        input_ids, attention_mask = encodings.input_ids, encodings.attention_mask\n",
    "        length = input_ids.detach().cpu().numpy().shape[1]\n",
    "        with torch.no_grad():\n",
    "            output = mymodel.generate(\n",
    "                    input_ids=input_ids, \n",
    "                    do_sample = do_sample, \n",
    "                    max_length=2 * length + 10,\n",
    "                    num_beams = num_beams)\n",
    "            dec = [mytokenizer.decode(ids, skip_special_tokens=True) for ids in output]\n",
    "            out.write(dec[0]+'\\n')\n",
    "        \n",
    "\n",
    "with open(path_to_file) as inf:\n",
    "    predictions = [i.strip().replace('\\n','') for i in inf.readlines()]\n",
    "    \n",
    "print(len(answers), len(predictions), len(sources))\n",
    "print(answers[20], predictions[20], sources[20])"
   ]
  },
  {
   "cell_type": "code",
   "execution_count": null,
   "id": "3b1fc0ce",
   "metadata": {},
   "outputs": [],
   "source": [
    "import numpy as np\n",
    "print(model_name)\n",
    "print('public results')\n",
    "results = bertscore.compute(predictions=predictions, references=sources, lang=\"ru\")\n",
    "print('BertScore', np.mean(results[\"f1\"]))\n",
    "results = sari.compute(predictions=predictions, sources=sources, references=answers)\n",
    "print('Sari', np.mean(results[\"sari\"]))"
   ]
  },
  {
   "cell_type": "code",
   "execution_count": null,
   "id": "11836715",
   "metadata": {},
   "outputs": [],
   "source": [
    "import tqdm\n",
    "data_answers = pd.read_csv(\"./data/simplification/hidden_test_sents.csv\", sep=\",\")\n",
    "sources = []\n",
    "answers = []\n",
    "ans_for_q = []\n",
    "for source, ans in zip(data_answers[\"INPUT:source\"], data_answers[\"OUTPUT:output\"]):\n",
    "    if source not in sources:\n",
    "        if ans_for_q:\n",
    "            answers.append(ans_for_q)\n",
    "        ans_for_q = []\n",
    "        sources.append(source)\n",
    "        ans_for_q.append(ans)\n",
    "    else:\n",
    "        ans_for_q.append(ans)\n",
    "answers.append(ans_for_q)\n",
    "\n",
    "path_to_file = \"./results/simplification/simplification_\"+model_name.replace('/','_')+'_hidden.txt'\n",
    "with open(path_to_file, \"w\") as out:\n",
    "    for text in tqdm.tqdm(sources):\n",
    "        formatted_text = add_eos_to_examples(text)\n",
    "        encodings = convert_to_features(formatted_text)\n",
    "        input_ids, attention_mask = encodings.input_ids, encodings.attention_mask\n",
    "        length = input_ids.detach().cpu().numpy().shape[1]\n",
    "        with torch.no_grad():\n",
    "            output = mymodel.generate(\n",
    "                    input_ids=input_ids, \n",
    "                    do_sample = do_sample, \n",
    "                    max_length=2 * length + 10,\n",
    "                    num_beams = num_beams)\n",
    "            dec = [mytokenizer.decode(ids, skip_special_tokens=True) for ids in output]\n",
    "            out.write(dec[0]+'\\n')\n",
    "\n",
    "with open(path_to_file) as inf:\n",
    "    predictions = [i.strip().replace('\\n','') for i in inf.readlines()]\n",
    "    \n",
    "print(len(answers), len(predictions), len(sources))\n",
    "print(answers[20], predictions[20], sources[20])"
   ]
  },
  {
   "cell_type": "code",
   "execution_count": null,
   "id": "b43cf055",
   "metadata": {},
   "outputs": [],
   "source": [
    "import numpy as np\n",
    "print(model_name)\n",
    "print('private results')\n",
    "results = bertscore.compute(predictions=predictions, references=sources, lang=\"ru\")\n",
    "print('BertScore', np.mean(results[\"f1\"]))\n",
    "results = sari.compute(predictions=predictions, sources=sources, references=answers)\n",
    "print('Sari', np.mean(results[\"sari\"]))"
   ]
  },
  {
   "cell_type": "code",
   "execution_count": null,
   "id": "572101b6",
   "metadata": {},
   "outputs": [],
   "source": []
  }
 ],
 "metadata": {
  "kernelspec": {
   "display_name": "Python 3 (ipykernel)",
   "language": "python",
   "name": "python3"
  },
  "language_info": {
   "codemirror_mode": {
    "name": "ipython",
    "version": 3
   },
   "file_extension": ".py",
   "mimetype": "text/x-python",
   "name": "python",
   "nbconvert_exporter": "python",
   "pygments_lexer": "ipython3",
   "version": "3.7.12"
  }
 },
 "nbformat": 4,
 "nbformat_minor": 5
}
